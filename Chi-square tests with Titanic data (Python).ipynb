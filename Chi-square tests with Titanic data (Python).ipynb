{
 "cells": [
  {
   "cell_type": "code",
   "execution_count": 164,
   "id": "18c2abc6",
   "metadata": {},
   "outputs": [],
   "source": [
    "# Import needed packages\n",
    "\n",
    "import pandas as pd\n",
    "import numpy as np\n",
    "from scipy.stats import chi2_contingency\n",
    "import scipy.stats as stats\n",
    "import seaborn as sns\n",
    "import matplotlib.pyplot as plt"
   ]
  },
  {
   "cell_type": "code",
   "execution_count": 165,
   "id": "c8bf1f2a",
   "metadata": {},
   "outputs": [],
   "source": [
    "# Load in the data\n",
    "\n",
    "titanic = pd.read_csv('/Users/TT/Hyper Project/titanic.csv', index_col=[0])"
   ]
  },
  {
   "cell_type": "code",
   "execution_count": 166,
   "id": "8c0bbed7",
   "metadata": {},
   "outputs": [
    {
     "data": {
      "text/html": [
       "<div>\n",
       "<style scoped>\n",
       "    .dataframe tbody tr th:only-of-type {\n",
       "        vertical-align: middle;\n",
       "    }\n",
       "\n",
       "    .dataframe tbody tr th {\n",
       "        vertical-align: top;\n",
       "    }\n",
       "\n",
       "    .dataframe thead th {\n",
       "        text-align: right;\n",
       "    }\n",
       "</style>\n",
       "<table border=\"1\" class=\"dataframe\">\n",
       "  <thead>\n",
       "    <tr style=\"text-align: right;\">\n",
       "      <th></th>\n",
       "      <th>Name</th>\n",
       "      <th>PClass</th>\n",
       "      <th>Age</th>\n",
       "      <th>Sex</th>\n",
       "      <th>Survived</th>\n",
       "      <th>SexCode</th>\n",
       "    </tr>\n",
       "  </thead>\n",
       "  <tbody>\n",
       "    <tr>\n",
       "      <th>0</th>\n",
       "      <td>Allen, Miss Elisabeth Walton</td>\n",
       "      <td>1st</td>\n",
       "      <td>29.00</td>\n",
       "      <td>female</td>\n",
       "      <td>1</td>\n",
       "      <td>1</td>\n",
       "    </tr>\n",
       "    <tr>\n",
       "      <th>1</th>\n",
       "      <td>Allison, Miss Helen Loraine</td>\n",
       "      <td>1st</td>\n",
       "      <td>2.00</td>\n",
       "      <td>female</td>\n",
       "      <td>0</td>\n",
       "      <td>1</td>\n",
       "    </tr>\n",
       "    <tr>\n",
       "      <th>2</th>\n",
       "      <td>Allison, Mr Hudson Joshua Creighton</td>\n",
       "      <td>1st</td>\n",
       "      <td>30.00</td>\n",
       "      <td>male</td>\n",
       "      <td>0</td>\n",
       "      <td>0</td>\n",
       "    </tr>\n",
       "    <tr>\n",
       "      <th>3</th>\n",
       "      <td>Allison, Mrs Hudson JC (Bessie Waldo Daniels)</td>\n",
       "      <td>1st</td>\n",
       "      <td>25.00</td>\n",
       "      <td>female</td>\n",
       "      <td>0</td>\n",
       "      <td>1</td>\n",
       "    </tr>\n",
       "    <tr>\n",
       "      <th>4</th>\n",
       "      <td>Allison, Master Hudson Trevor</td>\n",
       "      <td>1st</td>\n",
       "      <td>0.92</td>\n",
       "      <td>male</td>\n",
       "      <td>1</td>\n",
       "      <td>0</td>\n",
       "    </tr>\n",
       "  </tbody>\n",
       "</table>\n",
       "</div>"
      ],
      "text/plain": [
       "                                            Name PClass    Age     Sex  \\\n",
       "0                   Allen, Miss Elisabeth Walton    1st  29.00  female   \n",
       "1                    Allison, Miss Helen Loraine    1st   2.00  female   \n",
       "2            Allison, Mr Hudson Joshua Creighton    1st  30.00    male   \n",
       "3  Allison, Mrs Hudson JC (Bessie Waldo Daniels)    1st  25.00  female   \n",
       "4                  Allison, Master Hudson Trevor    1st   0.92    male   \n",
       "\n",
       "   Survived  SexCode  \n",
       "0         1        1  \n",
       "1         0        1  \n",
       "2         0        0  \n",
       "3         0        1  \n",
       "4         1        0  "
      ]
     },
     "execution_count": 166,
     "metadata": {},
     "output_type": "execute_result"
    }
   ],
   "source": [
    "titanic.head()"
   ]
  },
  {
   "cell_type": "markdown",
   "id": "91447c7a",
   "metadata": {},
   "source": [
    "<big><b>1. Is there a significant relationship between gender and whether or not passenger survived?\n",
    "    \n",
    "Independent variable: Gender<p>\n",
    "Dependent variable: Survival<p>\n",
    "Confidence level: 0.95<p>\n",
    "Significance level: 0.05\n"
   ]
  },
  {
   "cell_type": "code",
   "execution_count": 167,
   "id": "4486c1a5",
   "metadata": {},
   "outputs": [
    {
     "data": {
      "text/html": [
       "<div>\n",
       "<style scoped>\n",
       "    .dataframe tbody tr th:only-of-type {\n",
       "        vertical-align: middle;\n",
       "    }\n",
       "\n",
       "    .dataframe tbody tr th {\n",
       "        vertical-align: top;\n",
       "    }\n",
       "\n",
       "    .dataframe thead th {\n",
       "        text-align: right;\n",
       "    }\n",
       "</style>\n",
       "<table border=\"1\" class=\"dataframe\">\n",
       "  <thead>\n",
       "    <tr style=\"text-align: right;\">\n",
       "      <th>Survived</th>\n",
       "      <th>0</th>\n",
       "      <th>1</th>\n",
       "    </tr>\n",
       "    <tr>\n",
       "      <th>Sex</th>\n",
       "      <th></th>\n",
       "      <th></th>\n",
       "    </tr>\n",
       "  </thead>\n",
       "  <tbody>\n",
       "    <tr>\n",
       "      <th>female</th>\n",
       "      <td>154</td>\n",
       "      <td>308</td>\n",
       "    </tr>\n",
       "    <tr>\n",
       "      <th>male</th>\n",
       "      <td>709</td>\n",
       "      <td>142</td>\n",
       "    </tr>\n",
       "  </tbody>\n",
       "</table>\n",
       "</div>"
      ],
      "text/plain": [
       "Survived    0    1\n",
       "Sex               \n",
       "female    154  308\n",
       "male      709  142"
      ]
     },
     "execution_count": 167,
     "metadata": {},
     "output_type": "execute_result"
    }
   ],
   "source": [
    "# Make crosstab to get counts of intersection\n",
    "\n",
    "table = pd.crosstab(titanic.Sex, titanic.Survived)\n",
    "\n",
    "table"
   ]
  },
  {
   "cell_type": "code",
   "execution_count": 215,
   "id": "179eaff9",
   "metadata": {},
   "outputs": [],
   "source": [
    "# Run chi-square test\n",
    "stat, p, dof, expected = chi2_contingency(table)"
   ]
  },
  {
   "cell_type": "code",
   "execution_count": 217,
   "id": "70c17561",
   "metadata": {},
   "outputs": [
    {
     "name": "stdout",
     "output_type": "stream",
     "text": [
      "329.8419924652638\n",
      "1.0404030919650888e-73\n",
      "1\n",
      "[[303.66031988 158.33968012]\n",
      " [559.33968012 291.66031988]]\n"
     ]
    }
   ],
   "source": [
    "# Print results\n",
    "print(stat) # test statistic\n",
    "print(p) # p-value\n",
    "print(dof) # degrees of freedom\n",
    "print(expected) # expected values"
   ]
  },
  {
   "cell_type": "code",
   "execution_count": 170,
   "id": "cc581cde",
   "metadata": {},
   "outputs": [],
   "source": [
    "# p-value is less than 0.05 (alpha)\n",
    "# There is a statistically significant relationship between gender and survival\n",
    "# It is not due to chance that the relationship exists"
   ]
  },
  {
   "cell_type": "code",
   "execution_count": 171,
   "id": "7f431b8a",
   "metadata": {},
   "outputs": [
    {
     "data": {
      "image/png": "[encoded data removed]",
      "text/plain": [
       "<Figure size 432x288 with 1 Axes>"
      ]
     },
     "metadata": {},
     "output_type": "display_data"
    }
   ],
   "source": [
    "# Visualization of gender and survival\n",
    "\n",
    "from matplotlib import rcParams\n",
    "\n",
    "sns.set_style('white')\n",
    "rcParams['figure.figsize'] = 6,4\n",
    "\n",
    "sns.barplot(data=titanic, x='Sex', y='Survived')\n",
    "plt.title('Gender vs. Survival')\n",
    "plt.ylabel('Percent (%) Survived')\n",
    "plt.xlabel('Gender')\n",
    "plt.show()"
   ]
  },
  {
   "cell_type": "markdown",
   "id": "3a22d0a6",
   "metadata": {},
   "source": [
    "<big><b>2. Is there a significant relationship between passenger class and whether or not passenger survived?\n",
    "    \n",
    "Independent variable: Passenger class<p>\n",
    "Dependent variable: Survival<p>\n",
    "Confidence level: 0.95<p>\n",
    "Significance level: 0.05\n"
   ]
  },
  {
   "cell_type": "code",
   "execution_count": 220,
   "id": "33f1df84",
   "metadata": {},
   "outputs": [
    {
     "data": {
      "text/plain": [
       "array(['1st', '2nd', '3rd'], dtype=object)"
      ]
     },
     "execution_count": 220,
     "metadata": {},
     "output_type": "execute_result"
    }
   ],
   "source": [
    "# Clean the Passenger class column\n",
    "\n",
    "titanic = titanic[titanic['PClass'] != '*']\n",
    "\n",
    "titanic.PClass.unique()"
   ]
  },
  {
   "cell_type": "code",
   "execution_count": 173,
   "id": "7e846821",
   "metadata": {},
   "outputs": [
    {
     "data": {
      "text/html": [
       "<div>\n",
       "<style scoped>\n",
       "    .dataframe tbody tr th:only-of-type {\n",
       "        vertical-align: middle;\n",
       "    }\n",
       "\n",
       "    .dataframe tbody tr th {\n",
       "        vertical-align: top;\n",
       "    }\n",
       "\n",
       "    .dataframe thead th {\n",
       "        text-align: right;\n",
       "    }\n",
       "</style>\n",
       "<table border=\"1\" class=\"dataframe\">\n",
       "  <thead>\n",
       "    <tr style=\"text-align: right;\">\n",
       "      <th>Survived</th>\n",
       "      <th>0</th>\n",
       "      <th>1</th>\n",
       "    </tr>\n",
       "    <tr>\n",
       "      <th>PClass</th>\n",
       "      <th></th>\n",
       "      <th></th>\n",
       "    </tr>\n",
       "  </thead>\n",
       "  <tbody>\n",
       "    <tr>\n",
       "      <th>1st</th>\n",
       "      <td>129</td>\n",
       "      <td>193</td>\n",
       "    </tr>\n",
       "    <tr>\n",
       "      <th>2nd</th>\n",
       "      <td>160</td>\n",
       "      <td>119</td>\n",
       "    </tr>\n",
       "    <tr>\n",
       "      <th>3rd</th>\n",
       "      <td>573</td>\n",
       "      <td>138</td>\n",
       "    </tr>\n",
       "  </tbody>\n",
       "</table>\n",
       "</div>"
      ],
      "text/plain": [
       "Survived    0    1\n",
       "PClass            \n",
       "1st       129  193\n",
       "2nd       160  119\n",
       "3rd       573  138"
      ]
     },
     "execution_count": 173,
     "metadata": {},
     "output_type": "execute_result"
    }
   ],
   "source": [
    "table2 = pd.crosstab(titanic.PClass, titanic.Survived)\n",
    "\n",
    "table2"
   ]
  },
  {
   "cell_type": "code",
   "execution_count": 174,
   "id": "77a997b9",
   "metadata": {},
   "outputs": [],
   "source": [
    "# Run chi-square test\n",
    "\n",
    "stat2, p2, dof2, expected2 = chi2_contingency(table2)"
   ]
  },
  {
   "cell_type": "code",
   "execution_count": 218,
   "id": "ecac0945",
   "metadata": {},
   "outputs": [
    {
     "name": "stdout",
     "output_type": "stream",
     "text": [
      "172.51911553147184\n",
      "3.451040459491841e-38\n",
      "2\n",
      "[[211.55792683 110.44207317]\n",
      " [183.30640244  95.69359756]\n",
      " [467.13567073 243.86432927]]\n"
     ]
    }
   ],
   "source": [
    "# Print results\n",
    "print(stat2) # test statistic\n",
    "print(p2) # p-value\n",
    "print(dof2) # degrees of freedom\n",
    "print(expected2) # expected values"
   ]
  },
  {
   "cell_type": "code",
   "execution_count": 176,
   "id": "f95e3cb7",
   "metadata": {},
   "outputs": [],
   "source": [
    "# p-value is less than 0.05 (alpha)\n",
    "# There is a statistically significant relationship between passenger class and survival\n",
    "# It is not due to chance that the relationship exists"
   ]
  },
  {
   "cell_type": "code",
   "execution_count": 177,
   "id": "404d0b4d",
   "metadata": {},
   "outputs": [
    {
     "data": {
      "image/png": "[encoded data removed]",
      "text/plain": [
       "<Figure size 432x288 with 1 Axes>"
      ]
     },
     "metadata": {},
     "output_type": "display_data"
    }
   ],
   "source": [
    "# Visualization of Passenger Class and Survival\n",
    "\n",
    "sns.barplot(data=titanic, x='PClass', y='Survived')\n",
    "plt.title('Passenger Class vs. Survival')\n",
    "plt.ylabel('Percent (%) Survived')\n",
    "plt.xlabel('Passenger Class')\n",
    "plt.show()"
   ]
  },
  {
   "cell_type": "markdown",
   "id": "c17300f0",
   "metadata": {},
   "source": [
    "<big><b>3. Is there a significant relationship between age and passenger class?\n",
    "    \n",
    "Independent variable: Age<p>\n",
    "Dependent variable: Passenger class<p>\n",
    "Confidence level: 0.95<p>\n",
    "Significance level: 0.05\n"
   ]
  },
  {
   "cell_type": "code",
   "execution_count": 178,
   "id": "3b902ee7",
   "metadata": {},
   "outputs": [
    {
     "data": {
      "text/html": [
       "<div>\n",
       "<style scoped>\n",
       "    .dataframe tbody tr th:only-of-type {\n",
       "        vertical-align: middle;\n",
       "    }\n",
       "\n",
       "    .dataframe tbody tr th {\n",
       "        vertical-align: top;\n",
       "    }\n",
       "\n",
       "    .dataframe thead th {\n",
       "        text-align: right;\n",
       "    }\n",
       "</style>\n",
       "<table border=\"1\" class=\"dataframe\">\n",
       "  <thead>\n",
       "    <tr style=\"text-align: right;\">\n",
       "      <th></th>\n",
       "      <th>Name</th>\n",
       "      <th>PClass</th>\n",
       "      <th>Age</th>\n",
       "      <th>Sex</th>\n",
       "      <th>Survived</th>\n",
       "      <th>SexCode</th>\n",
       "      <th>Age Group</th>\n",
       "    </tr>\n",
       "  </thead>\n",
       "  <tbody>\n",
       "    <tr>\n",
       "      <th>0</th>\n",
       "      <td>Allen, Miss Elisabeth Walton</td>\n",
       "      <td>1st</td>\n",
       "      <td>29.00</td>\n",
       "      <td>female</td>\n",
       "      <td>1</td>\n",
       "      <td>1</td>\n",
       "      <td>26-35</td>\n",
       "    </tr>\n",
       "    <tr>\n",
       "      <th>1</th>\n",
       "      <td>Allison, Miss Helen Loraine</td>\n",
       "      <td>1st</td>\n",
       "      <td>2.00</td>\n",
       "      <td>female</td>\n",
       "      <td>0</td>\n",
       "      <td>1</td>\n",
       "      <td>0-17</td>\n",
       "    </tr>\n",
       "    <tr>\n",
       "      <th>2</th>\n",
       "      <td>Allison, Mr Hudson Joshua Creighton</td>\n",
       "      <td>1st</td>\n",
       "      <td>30.00</td>\n",
       "      <td>male</td>\n",
       "      <td>0</td>\n",
       "      <td>0</td>\n",
       "      <td>26-35</td>\n",
       "    </tr>\n",
       "    <tr>\n",
       "      <th>3</th>\n",
       "      <td>Allison, Mrs Hudson JC (Bessie Waldo Daniels)</td>\n",
       "      <td>1st</td>\n",
       "      <td>25.00</td>\n",
       "      <td>female</td>\n",
       "      <td>0</td>\n",
       "      <td>1</td>\n",
       "      <td>18-25</td>\n",
       "    </tr>\n",
       "    <tr>\n",
       "      <th>4</th>\n",
       "      <td>Allison, Master Hudson Trevor</td>\n",
       "      <td>1st</td>\n",
       "      <td>0.92</td>\n",
       "      <td>male</td>\n",
       "      <td>1</td>\n",
       "      <td>0</td>\n",
       "      <td>0-17</td>\n",
       "    </tr>\n",
       "  </tbody>\n",
       "</table>\n",
       "</div>"
      ],
      "text/plain": [
       "                                            Name PClass    Age     Sex  \\\n",
       "0                   Allen, Miss Elisabeth Walton    1st  29.00  female   \n",
       "1                    Allison, Miss Helen Loraine    1st   2.00  female   \n",
       "2            Allison, Mr Hudson Joshua Creighton    1st  30.00    male   \n",
       "3  Allison, Mrs Hudson JC (Bessie Waldo Daniels)    1st  25.00  female   \n",
       "4                  Allison, Master Hudson Trevor    1st   0.92    male   \n",
       "\n",
       "   Survived  SexCode Age Group  \n",
       "0         1        1     26-35  \n",
       "1         0        1      0-17  \n",
       "2         0        0     26-35  \n",
       "3         0        1     18-25  \n",
       "4         1        0      0-17  "
      ]
     },
     "execution_count": 178,
     "metadata": {},
     "output_type": "execute_result"
    }
   ],
   "source": [
    "# Create bins for age with column 'Age Group'\n",
    "\n",
    "bins = [0.0, 18, 25, 35, 45, 60, 75, 100]\n",
    "category = ['0-17', '18-25', '26-35', '36-45', '46-60', '61-75', '75+']\n",
    "titanic['Age Group'] = pd.cut(titanic['Age'], bins, labels=category)\n",
    "\n",
    "titanic.head()"
   ]
  },
  {
   "cell_type": "code",
   "execution_count": 179,
   "id": "4a9c2d2e",
   "metadata": {},
   "outputs": [
    {
     "data": {
      "text/html": [
       "<div>\n",
       "<style scoped>\n",
       "    .dataframe tbody tr th:only-of-type {\n",
       "        vertical-align: middle;\n",
       "    }\n",
       "\n",
       "    .dataframe tbody tr th {\n",
       "        vertical-align: top;\n",
       "    }\n",
       "\n",
       "    .dataframe thead th {\n",
       "        text-align: right;\n",
       "    }\n",
       "</style>\n",
       "<table border=\"1\" class=\"dataframe\">\n",
       "  <thead>\n",
       "    <tr style=\"text-align: right;\">\n",
       "      <th>PClass</th>\n",
       "      <th>1st</th>\n",
       "      <th>2nd</th>\n",
       "      <th>3rd</th>\n",
       "    </tr>\n",
       "    <tr>\n",
       "      <th>Age Group</th>\n",
       "      <th></th>\n",
       "      <th></th>\n",
       "      <th></th>\n",
       "    </tr>\n",
       "  </thead>\n",
       "  <tbody>\n",
       "    <tr>\n",
       "      <th>0-17</th>\n",
       "      <td>17</td>\n",
       "      <td>36</td>\n",
       "      <td>73</td>\n",
       "    </tr>\n",
       "    <tr>\n",
       "      <th>18-25</th>\n",
       "      <td>30</td>\n",
       "      <td>53</td>\n",
       "      <td>102</td>\n",
       "    </tr>\n",
       "    <tr>\n",
       "      <th>26-35</th>\n",
       "      <td>39</td>\n",
       "      <td>73</td>\n",
       "      <td>85</td>\n",
       "    </tr>\n",
       "    <tr>\n",
       "      <th>36-45</th>\n",
       "      <td>50</td>\n",
       "      <td>29</td>\n",
       "      <td>49</td>\n",
       "    </tr>\n",
       "    <tr>\n",
       "      <th>46-60</th>\n",
       "      <td>72</td>\n",
       "      <td>19</td>\n",
       "      <td>7</td>\n",
       "    </tr>\n",
       "    <tr>\n",
       "      <th>61-75</th>\n",
       "      <td>18</td>\n",
       "      <td>2</td>\n",
       "      <td>2</td>\n",
       "    </tr>\n",
       "  </tbody>\n",
       "</table>\n",
       "</div>"
      ],
      "text/plain": [
       "PClass     1st  2nd  3rd\n",
       "Age Group               \n",
       "0-17        17   36   73\n",
       "18-25       30   53  102\n",
       "26-35       39   73   85\n",
       "36-45       50   29   49\n",
       "46-60       72   19    7\n",
       "61-75       18    2    2"
      ]
     },
     "execution_count": 179,
     "metadata": {},
     "output_type": "execute_result"
    }
   ],
   "source": [
    "table3 = pd.crosstab(titanic['Age Group'], titanic.PClass)\n",
    "\n",
    "table3"
   ]
  },
  {
   "cell_type": "code",
   "execution_count": 180,
   "id": "3d93c5c1",
   "metadata": {},
   "outputs": [],
   "source": [
    "stat3, p3, dof3, expected3 = chi2_contingency(table3)"
   ]
  },
  {
   "cell_type": "code",
   "execution_count": 219,
   "id": "8b4baa18",
   "metadata": {},
   "outputs": [
    {
     "name": "stdout",
     "output_type": "stream",
     "text": [
      "177.4765933234248\n",
      "7.82484592087226e-33\n",
      "10\n",
      "[[37.66666667 35.33333333 53.        ]\n",
      " [55.3042328  51.87830688 77.81746032]\n",
      " [58.89153439 55.24338624 82.86507937]\n",
      " [38.26455026 35.89417989 53.84126984]\n",
      " [29.2962963  27.48148148 41.22222222]\n",
      " [ 6.57671958  6.16931217  9.25396825]]\n"
     ]
    }
   ],
   "source": [
    "# Print results\n",
    "print(stat3) # test statistic\n",
    "print(p3) # p-value\n",
    "print(dof3) # degrees of freedom\n",
    "print(expected3) # expected values"
   ]
  },
  {
   "cell_type": "code",
   "execution_count": 182,
   "id": "4b12fca4",
   "metadata": {},
   "outputs": [],
   "source": [
    "# p-value is less than 0.05 (alpha)\n",
    "# There is a statistically significant relationship between Age and Passenger class\n",
    "# It is not due to chance that the relationship exists"
   ]
  },
  {
   "cell_type": "code",
   "execution_count": 221,
   "id": "4dcce09a",
   "metadata": {
    "scrolled": true
   },
   "outputs": [
    {
     "data": {
      "image/png": "[encoded data removed]",
      "text/plain": [
       "<Figure size 720x288 with 1 Axes>"
      ]
     },
     "metadata": {},
     "output_type": "display_data"
    }
   ],
   "source": [
    "# Visualization of Age and Passenger Class\n",
    "\n",
    "rcParams['figure.figsize'] = 10,4\n",
    "\n",
    "sns.stripplot(data=titanic, x='Age', y='PClass')\n",
    "plt.title('Age vs. Passenger Class')\n",
    "plt.ylabel('Passenger Class')\n",
    "plt.xlabel('Age')\n",
    "plt.show()"
   ]
  },
  {
   "cell_type": "code",
   "execution_count": null,
   "id": "ff4c6fb6",
   "metadata": {},
   "outputs": [],
   "source": []
  }
 ],
 "metadata": {
  "kernelspec": {
   "display_name": "Python 3 (ipykernel)",
   "language": "python",
   "name": "python3"
  },
  "language_info": {
   "codemirror_mode": {
    "name": "ipython",
    "version": 3
   },
   "file_extension": ".py",
   "mimetype": "text/x-python",
   "name": "python",
   "nbconvert_exporter": "python",
   "pygments_lexer": "ipython3",
   "version": "3.9.7"
  }
 },
 "nbformat": 4,
 "nbformat_minor": 5
}
